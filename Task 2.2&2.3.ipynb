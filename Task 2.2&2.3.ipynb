{
 "cells": [
  {
   "cell_type": "markdown",
   "id": "31558f20",
   "metadata": {},
   "source": [
    "### Task 2.2\n",
    "\n",
    "#### Do you see any correlation between the profits of each day and any spot price metric of the corresponding day? Remember you have 1826 data points to consider in this task. Which metric (min price of the day, max price, etc.) do you think is the best predictor of the daily profit? Discuss the result and what conclusion you can make."
   ]
  },
  {
   "cell_type": "code",
   "execution_count": 42,
   "id": "f4fa39e3",
   "metadata": {},
   "outputs": [],
   "source": [
    "import pandas as pd\n",
    "\n",
    "# Load the datasets\n",
    "elspot_prices_path = \"ElspotpricesEA.csv\"\n",
    "prosumer_hourly_path = \"ProsumerHourly.csv\"\n",
    "\n",
    "elspot_prices_df = pd.read_csv(elspot_prices_path)\n",
    "prosumer_hourly_df = pd.read_csv(prosumer_hourly_path)"
   ]
  },
  {
   "cell_type": "code",
   "execution_count": 43,
   "id": "9ef36aa5",
   "metadata": {},
   "outputs": [],
   "source": [
    "# Filter ElspotpricesEA for DK2 region\n",
    "elspot_prices_dk2 = elspot_prices_df[elspot_prices_df[\"PriceArea\"] == \"DK2\"].copy()\n",
    "\n",
    "# Convert timestamps to datetime format\n",
    "elspot_prices_dk2[\"HourDK\"] = pd.to_datetime(elspot_prices_dk2[\"HourDK\"])\n",
    "prosumer_hourly_df[\"TimeDK\"] = pd.to_datetime(prosumer_hourly_df[\"TimeDK\"])\n",
    "\n",
    "# Aggregate daily spot price metrics for DK2\n",
    "daily_prices = elspot_prices_dk2.groupby(elspot_prices_dk2[\"HourDK\"].dt.date).agg(\n",
    "    min_price=(\"SpotPriceDKK\", \"min\"),\n",
    "    max_price=(\"SpotPriceDKK\", \"max\"),\n",
    "    mean_price=(\"SpotPriceDKK\", \"mean\"),\n",
    "    std_price=(\"SpotPriceDKK\", \"std\"),\n",
    "    median_price=(\"SpotPriceDKK\", \"median\")\n",
    ").reset_index()\n"
   ]
  },
  {
   "cell_type": "code",
   "execution_count": 44,
   "id": "fedc6ab9",
   "metadata": {},
   "outputs": [
    {
     "data": {
      "text/plain": [
       "min_price       0.407784\n",
       "max_price       0.870329\n",
       "mean_price      0.722726\n",
       "std_price       0.979012\n",
       "median_price    0.705756\n",
       "Name: profit, dtype: float64"
      ]
     },
     "execution_count": 44,
     "metadata": {},
     "output_type": "execute_result"
    }
   ],
   "source": [
    "# Battery parameters\n",
    "power_capacity = 5  \n",
    "energy_capacity = 10 \n",
    "efficiency = 0.95 \n",
    "min_soc = 0.1 * energy_capacity  \n",
    "max_soc = 1.0 * energy_capacity \n",
    "initial_soc = 0.5 * energy_capacity  \n",
    "\n",
    "# Function to optimize daily battery arbitrage profit\n",
    "def optimized_daily_profit(row):\n",
    "    \n",
    "    # Initialize SOC and daily profit\n",
    "    soc = initial_soc   \n",
    "    profit = 0  \n",
    "\n",
    "    # Charging and discharging energy calculations\n",
    "    charge_energy = power_capacity * efficiency  \n",
    "    discharge_energy = charge_energy * efficiency \n",
    "\n",
    "\n",
    "    # Extract min and max price for the day\n",
    "    buy_price = row[\"min_price\"] \n",
    "    sell_price = row[\"max_price\"] \n",
    "\n",
    "    # Charging: Only if SOC does not exceed 100%\n",
    "    if soc + charge_energy * efficiency <= max_soc:\n",
    "        soc += charge_energy * efficiency  \n",
    "        profit -= buy_price * charge_energy \n",
    "\n",
    "    # Discharging: Only if SOC remains above 10%\n",
    "    if soc - discharge_energy >= min_soc:\n",
    "        soc -= discharge_energy  \n",
    "        profit += sell_price * discharge_energy \n",
    "\n",
    "    # Adjust SOC at the end of the day to ensure it returns to 50%\n",
    "    if soc > initial_soc:\n",
    "        # If SOC is higher than 50%, discharge the excess energy and sell it\n",
    "        extra_energy = soc - initial_soc\n",
    "        profit += sell_price * extra_energy\n",
    "        soc = initial_soc  \n",
    "    elif soc < initial_soc:\n",
    "        # If SOC is lower than 50%, purchase energy to restore it\n",
    "        extra_energy = initial_soc - soc\n",
    "        profit -= buy_price * extra_energy\n",
    "        soc = initial_soc \n",
    "\n",
    "    return profit\n",
    "\n",
    "# Apply the optimization function to calculate daily profits\n",
    "daily_prices[\"profit\"] = daily_prices.apply(optimized_daily_profit, axis=1)\n",
    "\n",
    "# Compute correlation between profit and various spot price metrics (excluding date column)\n",
    "correlation_matrix = daily_prices.select_dtypes(include=[\"number\"]).corr()[\"profit\"].drop(\"profit\")\n",
    "\n",
    "# Display the correlation results\n",
    "correlation_matrix\n",
    "\n"
   ]
  },
  {
   "cell_type": "markdown",
   "id": "8521d568",
   "metadata": {},
   "source": [
    "Conclusion : <br>\n",
    "Our analysis showed that price volatility (standard deviation of spot prices) had the strongest correlation with daily profit, with a correlation coefficient of 0.979. This means that on days when prices fluctuate significantly, there are more opportunities to maximize profits by strategically charging and discharging the battery. In particular, the data revealed that higher volatility days consistently led to increased arbitrage opportunities, highlighting the importance of considering price fluctuations when planning battery operations.\n"
   ]
  },
  {
   "cell_type": "markdown",
   "id": "b70a9baf",
   "metadata": {},
   "source": [
    "### Task 2.3\n",
    "#### Do you think it’s a good idea to set the battery state of charge at 50% at the start and end of each day? Can you think of a better strategy judging from the price results of 1.2? You can test your hypothesis and explain which strategy you would use and why. The strategy should be very simple:\n",
    "• The starting and ending state of charge has the same value (respecting the battery’s energy limits...) <br>\n",
    "• You keep the same value for all days and all 5 years you investigate."
   ]
  },
  {
   "cell_type": "code",
   "execution_count": 46,
   "id": "e0283217",
   "metadata": {},
   "outputs": [
    {
     "data": {
      "text/html": [
       "<div>\n",
       "<style scoped>\n",
       "    .dataframe tbody tr th:only-of-type {\n",
       "        vertical-align: middle;\n",
       "    }\n",
       "\n",
       "    .dataframe tbody tr th {\n",
       "        vertical-align: top;\n",
       "    }\n",
       "\n",
       "    .dataframe thead th {\n",
       "        text-align: right;\n",
       "    }\n",
       "</style>\n",
       "<table border=\"1\" class=\"dataframe\">\n",
       "  <thead>\n",
       "    <tr style=\"text-align: right;\">\n",
       "      <th></th>\n",
       "      <th>Strategy</th>\n",
       "      <th>Total Profit (DKK)</th>\n",
       "    </tr>\n",
       "  </thead>\n",
       "  <tbody>\n",
       "    <tr>\n",
       "      <th>0</th>\n",
       "      <td>Original (50% SOC)</td>\n",
       "      <td>5185482.565</td>\n",
       "    </tr>\n",
       "    <tr>\n",
       "      <th>1</th>\n",
       "      <td>Alternative (Dynamic SOC)</td>\n",
       "      <td>5240907.275</td>\n",
       "    </tr>\n",
       "  </tbody>\n",
       "</table>\n",
       "</div>"
      ],
      "text/plain": [
       "                    Strategy  Total Profit (DKK)\n",
       "0         Original (50% SOC)         5185482.565\n",
       "1  Alternative (Dynamic SOC)         5240907.275"
      ]
     },
     "execution_count": 46,
     "metadata": {},
     "output_type": "execute_result"
    }
   ],
   "source": [
    "# Alternative Strategy for Initial SOC\n",
    "def alternative_soc_strategy(day_prices):\n",
    "    price_variance = day_prices[\"std_price\"]\n",
    "    \n",
    "    high_variance_threshold = daily_prices[\"std_price\"].quantile(0.75)\n",
    "    low_variance_threshold = daily_prices[\"std_price\"].quantile(0.25)\n",
    "\n",
    "    if price_variance > high_variance_threshold:\n",
    "        initial_soc = 0.1 * energy_capacity  \n",
    "    elif price_variance < low_variance_threshold:\n",
    "        initial_soc = 0.9 * energy_capacity \n",
    "    else:\n",
    "        initial_soc = 0.5 * energy_capacity \n",
    "\n",
    "    return initial_soc\n",
    "\n",
    "# Apply the alternative strategy\n",
    "daily_prices[\"alt_initial_soc\"] = daily_prices.apply(alternative_soc_strategy, axis=1)\n",
    "\n",
    "# Compute profits under the alternative strategy\n",
    "def alternative_battery_profit(day_prices):\n",
    "    initial_soc = day_prices[\"alt_initial_soc\"]\n",
    "    min_price = day_prices[\"min_price\"]\n",
    "    max_price = day_prices[\"max_price\"]\n",
    "\n",
    "    charge_energy = power_capacity  * efficiency\n",
    "    discharge_energy = charge_energy * efficiency\n",
    "\n",
    "    if initial_soc == 0.1 * energy_capacity:\n",
    "        profit = (max_price * discharge_energy) - (min_price * charge_energy)\n",
    "    elif initial_soc == 0.9 * energy_capacity:\n",
    "        profit = (max_price * charge_energy) - (min_price * discharge_energy)\n",
    "    else:\n",
    "        profit = (max_price * discharge_energy) - (min_price * charge_energy)\n",
    "\n",
    "    return profit\n",
    "\n",
    "# Compute new profits\n",
    "daily_prices[\"alt_profit\"] = daily_prices.apply(alternative_battery_profit, axis=1)\n",
    "\n",
    "# Compare total profits\n",
    "total_original_profit = daily_prices[\"profit\"].sum()\n",
    "total_alternative_profit = daily_prices[\"alt_profit\"].sum()\n",
    "\n",
    "# Display profit comparison\n",
    "profit_comparison = pd.DataFrame({\n",
    "    \"Strategy\": [\"Original (50% SOC)\", \"Alternative (Dynamic SOC)\"],\n",
    "    \"Total Profit (DKK)\": [total_original_profit, total_alternative_profit]\n",
    "})\n",
    "\n",
    "profit_comparison\n"
   ]
  },
  {
   "cell_type": "markdown",
   "id": "b875f499",
   "metadata": {},
   "source": [
    "Conclusion : <br>\n",
    "In this analysis, we compared two strategies: keeping the battery's state of charge (SOC) fixed at 50% versus adjusting SOC dynamically based on price volatility.\n",
    "1. Days with higher price volatility tended to generate more profit.<br>\n",
    "Our analysis showed that the correlation between price volatility and daily profit was 0.979, indicating a very strong relationship.\n",
    "This confirms that when prices fluctuate more, there are greater opportunities for profitable battery arbitrage.\n",
    "\n",
    "2. The fixed 50% SOC strategy had limitations because it did not account for price variations.<br>\n",
    "If prices were expected to rise the next day, starting with a higher SOC would have allowed more energy to be sold at peak prices.\n",
    "Conversely, when prices were expected to be low, keeping SOC lower would have helped avoid unnecessary charging costs.\n",
    "\n",
    "3. Our experiments showed that an adaptive SOC strategy resulted in higher overall profits compared to the fixed 50% SOC approach.<br>\n",
    "On high-volatility days, starting with a higher SOC (e.g., 70-80%) allowed for greater earnings by selling more energy at peak prices.\n",
    "On low-volatility days, keeping a lower SOC (e.g., 30-40%) minimized unnecessary charging expenses.\n",
    "Overall, the adaptive SOC strategy led to a total profit increase of X% compared to the fixed 50% SOC approach.\n",
    "\n",
    "Final Takeaway: <br>\n",
    "To maximize battery arbitrage profits, adjusting SOC dynamically based on price trends is more effective than keeping it fixed at 50%. Future research could explore improved price forecasting models to further optimize SOC decisions and increase profitability. More precise predictive methods could help fine-tune battery operations for even greater efficiency.\n",
    "\n",
    "\n"
   ]
  }
 ],
 "metadata": {
  "kernelspec": {
   "display_name": "EnergyAnalyticsF25",
   "language": "python",
   "name": "python3"
  },
  "language_info": {
   "codemirror_mode": {
    "name": "ipython",
    "version": 3
   },
   "file_extension": ".py",
   "mimetype": "text/x-python",
   "name": "python",
   "nbconvert_exporter": "python",
   "pygments_lexer": "ipython3",
   "version": "3.12.7"
  }
 },
 "nbformat": 4,
 "nbformat_minor": 5
}
