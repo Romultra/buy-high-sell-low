{
 "cells": [
  {
   "cell_type": "markdown",
   "metadata": {},
   "source": [
    "## Task3"
   ]
  },
  {
   "cell_type": "markdown",
   "metadata": {},
   "source": [
    "### 3.1"
   ]
  },
  {
   "cell_type": "code",
   "execution_count": 1,
   "metadata": {},
   "outputs": [
    {
     "name": "stdout",
     "output_type": "stream",
     "text": [
      "        Exact Total Cost  Total Consumption (kWh)  \\\n",
      "HourDK                                              \n",
      "2022        10223.984507               2785.32095   \n",
      "2023         8239.421122               3377.69028   \n",
      "\n",
      "        Average Buy Price (DKK/kWh)  Estimated Total Cost (Rough Calculation)  \\\n",
      "HourDK                                                                          \n",
      "2022                       3.576655                               9962.131824   \n",
      "2023                       2.379184                               8036.148164   \n",
      "\n",
      "        Difference  \n",
      "HourDK              \n",
      "2022    261.852683  \n",
      "2023    203.272958  \n"
     ]
    }
   ],
   "source": [
    "import pandas as pd\n",
    "from UsefulFunctions import LoadData, PricesDK  \n",
    "\n",
    "# Load the necessary data\n",
    "df_prices, df_pro = LoadData()\n",
    "\n",
    "# Compute Buy Prices using the given function\n",
    "df_prices = PricesDK(df_prices)\n",
    "\n",
    "# Keep only necessary columns\n",
    "df_prices = df_prices[[\"HourDK\", \"Buy\"]]\n",
    "df_pro = df_pro[[\"HourDK\", \"Load\"]]\n",
    "\n",
    "# Merge both datasets on time\n",
    "df = pd.merge(df_pro, df_prices, on=\"HourDK\", how=\"inner\")\n",
    "\n",
    "# Convert time column to datetime format\n",
    "df[\"HourDK\"] = pd.to_datetime(df[\"HourDK\"])\n",
    "\n",
    "# Filter data for the years 2022 and 2023\n",
    "df_filtered = df[(df[\"HourDK\"].dt.year == 2022) | (df[\"HourDK\"].dt.year == 2023)]\n",
    "\n",
    "# Compute total cost for each year (Consumption * Buy Price per hour)\n",
    "df_filtered[\"TotalCost\"] = df_filtered[\"Load\"] * df_filtered[\"Buy\"]\n",
    "annual_total_costs = df_filtered.groupby(df_filtered[\"HourDK\"].dt.year)[\"TotalCost\"].sum()\n",
    "\n",
    "# Compute total yearly consumption and average Buy Price\n",
    "annual_consumption = df_filtered.groupby(df_filtered[\"HourDK\"].dt.year)[\"Load\"].sum()\n",
    "annual_avg_buy_price = df_filtered.groupby(df_filtered[\"HourDK\"].dt.year)[\"Buy\"].mean()\n",
    "\n",
    "# Compute estimated cost using total consumption * average Buy Price\n",
    "rough_costs = annual_consumption * annual_avg_buy_price\n",
    "\n",
    "# Analyze the difference\n",
    "difference = abs(annual_total_costs - rough_costs)\n",
    "\n",
    "# Compare the two methods\n",
    "comparison_df = pd.DataFrame({\n",
    "    \"Exact Total Cost\": annual_total_costs,\n",
    "    \"Total Consumption (kWh)\": annual_consumption,\n",
    "    \"Average Buy Price (DKK/kWh)\": annual_avg_buy_price,\n",
    "    \"Estimated Total Cost (Rough Calculation)\": rough_costs,\n",
    "    \"Difference\": difference\n",
    "})\n",
    "\n",
    "# Print the final comparison table\n",
    "print(comparison_df)"
   ]
  }
 ],
 "metadata": {
  "kernelspec": {
   "display_name": "Python 3",
   "language": "python",
   "name": "python3"
  },
  "language_info": {
   "codemirror_mode": {
    "name": "ipython",
    "version": 3
   },
   "file_extension": ".py",
   "mimetype": "text/x-python",
   "name": "python",
   "nbconvert_exporter": "python",
   "pygments_lexer": "ipython3",
   "version": "3.12.7"
  }
 },
 "nbformat": 4,
 "nbformat_minor": 2
}
