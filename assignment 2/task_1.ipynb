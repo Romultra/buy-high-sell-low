{
 "cells": [
  {
   "cell_type": "code",
   "execution_count": null,
   "metadata": {},
   "outputs": [],
   "source": [
    "import os\n",
    "import pandas as pd\n",
    "\n",
    "import numpy as np\n",
    "import matplotlib.pyplot as plt\n",
    "import pmdarima as pm\n",
    "from pmdarima import pipeline, arima, model_selection\n",
    "from sklearn.metrics import root_mean_squared_error, mean_absolute_error\n",
    "import statsmodels.api as sm\n",
    "import datetime as dt"
   ]
  },
  {
   "cell_type": "code",
   "execution_count": null,
   "metadata": {},
   "outputs": [],
   "source": [
    "file_P = os.path.join(os.getcwd(), 'Elspotprices2nd.csv')\n",
    "df_prices = pd.read_csv(file_P)\n",
    "df_prices['HourUTC'] = pd.to_datetime(df_prices['HourUTC'])\n",
    "\n",
    "file_P = os.path.join(os.getcwd(), 'ProdConData.csv')\n",
    "df_data = pd.read_csv(file_P)\n",
    "df_data['HourUTC'] = pd.to_datetime(df_data['HourUTC'])\n"
   ]
  },
  {
   "cell_type": "code",
   "execution_count": null,
   "metadata": {},
   "outputs": [],
   "source": [
    "print(df_prices)"
   ]
  },
  {
   "cell_type": "markdown",
   "metadata": {},
   "source": [
    "1.1"
   ]
  },
  {
   "cell_type": "markdown",
   "metadata": {},
   "source": [
    "First, we must define the training dataset, which runs from 1/1/19 until 31/8/24, and the testing dataset, which runs from 1/9/24 until 30/9/24. For that we will visualize the data and then split it into the two groups.\n",
    "\n",
    "**The provided data doesn't end on 30/09/2024, but on 31/12/2024"
   ]
  },
  {
   "cell_type": "code",
   "execution_count": null,
   "metadata": {},
   "outputs": [],
   "source": [
    "#We define relevant timestamps to filter only for the time periods mentioned in the task for training and testing\n",
    "\n",
    "t_start_train = pd.Timestamp(dt.datetime(2019, 1, 1, 0, 0, 0))\n",
    "t_end_train = pd.Timestamp(dt.datetime(2024, 8, 31, 23, 0, 0))\n",
    "\n",
    "t_start_test = pd.Timestamp(dt.datetime(2024, 9, 1, 0, 0, 0))\n",
    "t_end_test = pd.Timestamp(dt.datetime(2024, 9, 30, 23, 0, 0))"
   ]
  },
  {
   "cell_type": "code",
   "execution_count": null,
   "metadata": {},
   "outputs": [],
   "source": [
    "#Data split -- data remains as dataframe with HourUTC and SpotPriceDKK\n",
    "\n",
    "train = df_prices.loc[(df_prices['HourUTC']>=t_start_train) & (df_prices['HourUTC']<=t_end_train)]\n",
    "\n",
    "test = df_prices.loc[(df_prices['HourUTC']>=t_start_test) & (df_prices['HourUTC']<=t_end_test)]\n",
    "\n",
    "#n's are relevant for x \n",
    "n_train = len(train)\n",
    "n_test = len(test)\n",
    "n_data = n_train + n_test\n",
    "\n",
    "train, test, n_train, n_test"
   ]
  },
  {
   "cell_type": "code",
   "execution_count": null,
   "metadata": {},
   "outputs": [],
   "source": [
    "#Data visualization\n",
    "plt.figure(figsize=(10, 4), dpi=100)\n",
    "plt.plot(np.arange(1,n_train+1), train['SpotPriceDKK'])\n",
    "plt.plot(np.arange(n_train+1,n_data+1), test['SpotPriceDKK'])\n",
    "plt.legend([\"Training set\", \"Testing set\"])\n",
    "plt.grid(alpha=0.25)\n",
    "plt.xticks(np.arange(0, n_data+1, 365*24), rotation=45)\n",
    "plt.tight_layout()\n",
    "plt.show()"
   ]
  },
  {
   "cell_type": "markdown",
   "metadata": {},
   "source": [
    "Then, day-ahead predictions will be done with an ARIMA model (seasonal or not?). 30 predictions are needed of 24 values each. The correct values for them are known--contained in the test dataset--, so the model will be updated after each forecast.\n",
    "A persistence model is included in the graph to use as benchmark for the model. Each new set of 24 values will be assumed to be equal to the previous 24."
   ]
  },
  {
   "cell_type": "code",
   "execution_count": null,
   "metadata": {},
   "outputs": [],
   "source": []
  },
  {
   "cell_type": "markdown",
   "metadata": {},
   "source": [
    "To compare the ARIMA with the persistance model we report the RMSE value of each."
   ]
  },
  {
   "cell_type": "code",
   "execution_count": null,
   "metadata": {},
   "outputs": [],
   "source": [
    "#RMSE for ARIMA and persistence."
   ]
  },
  {
   "cell_type": "markdown",
   "metadata": {},
   "source": [
    "1.2\n",
    "\n",
    "Add any exogenous variables you want (maximum 3) and repeat the process (choose/optimize\n",
    "your model and evaluate it for the day-ahead prediction).\n",
    "\n",
    "What exogenous variables helped you improve the prediction and how did you choose the specific ones?\n",
    "\n",
    "Report the RMSE value and compare your results with those from task 1.1 and briefly discuss them"
   ]
  }
 ],
 "metadata": {
  "kernelspec": {
   "display_name": "EA25",
   "language": "python",
   "name": "python3"
  },
  "language_info": {
   "codemirror_mode": {
    "name": "ipython",
    "version": 3
   },
   "file_extension": ".py",
   "mimetype": "text/x-python",
   "name": "python",
   "nbconvert_exporter": "python",
   "pygments_lexer": "ipython3",
   "version": "3.12.7"
  }
 },
 "nbformat": 4,
 "nbformat_minor": 2
}
