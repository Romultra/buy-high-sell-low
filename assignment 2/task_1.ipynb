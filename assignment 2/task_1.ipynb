{
 "cells": [
  {
   "cell_type": "code",
   "execution_count": null,
   "metadata": {},
   "outputs": [],
   "source": [
    "import os\n",
    "import pandas as pd"
   ]
  },
  {
   "cell_type": "code",
   "execution_count": null,
   "metadata": {},
   "outputs": [],
   "source": [
    "file_P = os.path.join(os.getcwd(), 'Elspotprices2nd.csv')\n",
    "df_prices = pd.read_csv(file_P)\n",
    "df_prices['HourUTC'] = pd.to_datetime(df_prices['HourUTC'])\n",
    "\n",
    "file_P = os.path.join(os.getcwd(), 'ProdConData.csv')\n",
    "df_data = pd.read_csv(file_P)\n",
    "df_data['HourUTC'] = pd.to_datetime(df_data['HourUTC'])\n"
   ]
  },
  {
   "cell_type": "markdown",
   "metadata": {},
   "source": [
    "1.1\n",
    "\n",
    "Use NO exogenous variables in your model and *make day-ahead prediction for your testing dataset*.\n",
    "\n",
    "You can use a *seasonal ARIMA* or FourierFeaturizer and any data transformation you want in your model, but *no exogenous features* from df data. \n",
    "\n",
    "*Establish a suitable persistence forecast* and *report the RMSE values in both cases (your model and persistence)*. \n",
    "\n",
    "Briefly discuss your results."
   ]
  },
  {
   "cell_type": "markdown",
   "metadata": {},
   "source": [
    "1.2\n",
    "\n",
    "Add any exogenous variables you want (maximum 3) and repeat the process (choose/optimize\n",
    "your model and evaluate it for the day-ahead prediction).\n",
    "\n",
    "What exogenous variables helped you improve the prediction and how did you choose the specific ones?\n",
    "\n",
    "Report the RMSE value and compare your results with those from task 1.1 and briefly discuss them"
   ]
  }
 ],
 "metadata": {
  "kernelspec": {
   "display_name": "EA25",
   "language": "python",
   "name": "python3"
  },
  "language_info": {
   "codemirror_mode": {
    "name": "ipython",
    "version": 3
   },
   "file_extension": ".py",
   "mimetype": "text/x-python",
   "name": "python",
   "nbconvert_exporter": "python",
   "pygments_lexer": "ipython3",
   "version": "3.12.7"
  }
 },
 "nbformat": 4,
 "nbformat_minor": 2
}
