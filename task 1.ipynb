{
 "cells": [
  {
   "cell_type": "markdown",
   "metadata": {},
   "source": [
    "## Task 1"
   ]
  },
  {
   "cell_type": "code",
   "execution_count": null,
   "metadata": {},
   "outputs": [],
   "source": [
    "#def LoadData():\n",
    "import pandas as pd\n",
    "import os\n",
    "import matplotlib.pyplot as plt\n",
    "\n",
    "### Load electricity prices ###\n",
    "price_path = os.path.join(os.getcwd(),'/Users/emiliasalazar/Desktop/DTU/semester 4/energy analytics/assignment 1/buy-high-sell-low/ElspotpricesEA.csv')\n",
    "df_prices = pd.read_csv(price_path)\n",
    "\n",
    "    ### Convert to datetime ###\n",
    "df_prices[\"HourDK\"] = pd.to_datetime(df_prices[\"HourDK\"])\n",
    "df_prices[\"HourUTC\"] = pd.to_datetime(df_prices[\"HourUTC\"])\n",
    "df_prices['HourUTC'] = df_prices['HourUTC'].dt.tz_localize('UTC')\n",
    "df_prices['HourDK'] = df_prices['HourUTC'].dt.tz_convert('CET')\n",
    "\n",
    "    ### Filter only DK2 prices, restricting price list to DK2 ###\n",
    "df_prices = df_prices.loc[df_prices['PriceArea']==\"DK2\"]\n",
    "\n",
    "    ### Keep only the local time and price columns ###\n",
    "df_prices = df_prices[['HourDK','SpotPriceDKK']]\n",
    "\n",
    "    ### Reset the index ###\n",
    "df_prices = df_prices.reset_index(drop=True)\n",
    "\n",
    "df_prices\n",
    "#return df_prices"
   ]
  },
  {
   "cell_type": "code",
   "execution_count": null,
   "metadata": {},
   "outputs": [],
   "source": [
    "#adding columns for year, month, day, hour as datetime objects\n",
    "\n",
    "df_prices[\"Year\"]=df_prices[\"HourDK\"].dt.year\n",
    "df_prices[\"Month\"]=df_prices[\"HourDK\"].dt.month\n",
    "df_prices[\"Day\"]=df_prices[\"HourDK\"].dt.day_of_year\n",
    "df_prices[\"Hour\"]=df_prices[\"HourDK\"].dt.hour\n",
    "\n",
    "df_prices"
   ]
  },
  {
   "cell_type": "markdown",
   "metadata": {},
   "source": [
    "### 1.1"
   ]
  },
  {
   "cell_type": "code",
   "execution_count": null,
   "metadata": {},
   "outputs": [],
   "source": [
    "#finding average per year\n",
    "\n",
    "df_new1 = df_prices.groupby([df_prices[\"Year\"]])[\"SpotPriceDKK\"].mean().reset_index()\n",
    "print(\"This is the mean Spot Price per year [DKK/MWh]\")\n",
    "print(df_new1)"
   ]
  },
  {
   "cell_type": "markdown",
   "metadata": {},
   "source": [
    "### 1.2"
   ]
  },
  {
   "cell_type": "code",
   "execution_count": null,
   "metadata": {},
   "outputs": [],
   "source": [
    "#filtering spot prices per year\n",
    "df_prices_2019 = df_prices.loc[df_prices[\"Year\"].isin([2019])]\n",
    "\n",
    "df_prices_2020 = df_prices.loc[df_prices[\"Year\"].isin([2020])]\n",
    "\n",
    "df_prices_2021 = df_prices.loc[df_prices[\"Year\"].isin([2021])]\n",
    "\n",
    "df_prices_2022 = df_prices.loc[df_prices[\"Year\"].isin([2022])]\n",
    "\n",
    "df_prices_2023 = df_prices.loc[df_prices[\"Year\"].isin([2023])]"
   ]
  },
  {
   "cell_type": "code",
   "execution_count": null,
   "metadata": {},
   "outputs": [],
   "source": [
    "#finding hourly mean per year \n",
    "\n",
    "df_2019_hourlymean = df_prices_2019.groupby([df_prices[\"Hour\"]])[\"SpotPriceDKK\"].mean().reset_index()\n",
    "\n",
    "df_2020_hourlymean = df_prices_2020.groupby([df_prices[\"Hour\"]])[\"SpotPriceDKK\"].mean().reset_index()\n",
    "\n",
    "df_2021_hourlymean = df_prices_2021.groupby([df_prices[\"Hour\"]])[\"SpotPriceDKK\"].mean().reset_index()\n",
    "\n",
    "df_2022_hourlymean = df_prices_2022.groupby([df_prices[\"Hour\"]])[\"SpotPriceDKK\"].mean().reset_index()\n",
    "\n",
    "df_2023_hourlymean = df_prices_2023.groupby([df_prices[\"Hour\"]])[\"SpotPriceDKK\"].mean().reset_index()\n",
    "\n",
    "df_2019_hourlymean"
   ]
  },
  {
   "cell_type": "code",
   "execution_count": null,
   "metadata": {},
   "outputs": [],
   "source": [
    "hours_in_day = [1, 2, 3, 4, 5, 6, 7, 8, 9, 10, 11, 12, 13, 14, 15, 16, 17, 18, 19, 20, 21, 22, 23, 24]\n",
    "\n",
    "plt.figure()\n",
    "plt.plot(df_2019_hourlymean['Hour'], df_2019_hourlymean['SpotPriceDKK'], label=\"2019\")\n",
    "plt.plot(df_2020_hourlymean['Hour'], df_2020_hourlymean['SpotPriceDKK'], label=\"2020\")\n",
    "plt.plot(df_2021_hourlymean['Hour'], df_2021_hourlymean['SpotPriceDKK'], label=\"2021\")\n",
    "plt.plot(df_2022_hourlymean['Hour'], df_2022_hourlymean['SpotPriceDKK'], label=\"2022\")\n",
    "plt.plot(df_2023_hourlymean['Hour'], df_2023_hourlymean['SpotPriceDKK'], label=\"2023\")\n",
    "plt.xticks(df_2023_hourlymean['Hour'])\n",
    "plt.xlabel(\"Hours in a Day\")\n",
    "plt.ylabel(\"Price in DKK/MWh\")\n",
    "plt.title(\"Evolution of Daily Spot Prices per Year\")\n",
    "plt.grid(alpha=0.25)\n",
    "plt.legend()\n",
    "plt.tight_layout()\n",
    "plt.show()"
   ]
  }
 ],
 "metadata": {
  "kernelspec": {
   "display_name": "EA25",
   "language": "python",
   "name": "python3"
  },
  "language_info": {
   "codemirror_mode": {
    "name": "ipython",
    "version": 3
   },
   "file_extension": ".py",
   "mimetype": "text/x-python",
   "name": "python",
   "nbconvert_exporter": "python",
   "pygments_lexer": "ipython3",
   "version": "3.12.7"
  }
 },
 "nbformat": 4,
 "nbformat_minor": 2
}
