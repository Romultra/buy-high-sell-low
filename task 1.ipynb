{
 "cells": [
  {
   "cell_type": "markdown",
   "metadata": {},
   "source": [
    "Task 1.1"
   ]
  },
  {
   "cell_type": "code",
   "execution_count": null,
   "metadata": {},
   "outputs": [],
   "source": [
    "#def LoadData():\n",
    "import pandas as pd\n",
    "import os\n",
    "import matplotlib.pyplot as plt\n",
    "\n",
    "### Load electricity prices ###\n",
    "price_path = os.path.join(os.getcwd(),'/Users/emiliasalazar/Desktop/DTU/semester 4/energy analytics/assignment 1/buy-high-sell-low/ElspotpricesEA.csv')\n",
    "df_prices = pd.read_csv(price_path)\n",
    "\n",
    "    ### Convert to datetime ###\n",
    "df_prices[\"HourDK\"] = pd.to_datetime(df_prices[\"HourDK\"])\n",
    "df_prices[\"HourUTC\"] = pd.to_datetime(df_prices[\"HourUTC\"])\n",
    "df_prices['HourUTC'] = df_prices['HourUTC'].dt.tz_localize('UTC')\n",
    "df_prices['HourDK'] = df_prices['HourUTC'].dt.tz_convert('CET')\n",
    "\n",
    "    ### Filter only DK2 prices ###\n",
    "df_prices = df_prices.loc[df_prices['PriceArea']==\"DK2\"]\n",
    "\n",
    "    ### Keep only the local time and price columns ###\n",
    "df_prices = df_prices[['HourDK','SpotPriceDKK']]\n",
    "\n",
    "    ### Reset the index ###\n",
    "df_prices = df_prices.reset_index(drop=True)\n",
    "    \n",
    "#return df_prices"
   ]
  },
  {
   "cell_type": "code",
   "execution_count": null,
   "metadata": {},
   "outputs": [],
   "source": [
    "#filtering per year\n",
    "\n",
    "df_prices[\"Year\"]=df_prices[\"HourDK\"].dt.year\n",
    "df_prices[\"Month\"]=df_prices[\"HourDK\"].dt.month\n",
    "df_prices[\"Day\"]=df_prices[\"HourDK\"].dt.day_of_year\n",
    "df_prices[\"Hour\"]=df_prices[\"HourDK\"].dt.hour\n",
    "\n",
    "df_prices"
   ]
  },
  {
   "cell_type": "code",
   "execution_count": null,
   "metadata": {},
   "outputs": [],
   "source": [
    "#finding average per year\n",
    "\n",
    "df_new1 = df_prices.groupby([df_prices[\"Year\"]])[\"SpotPriceDKK\"].mean().reset_index()\n",
    "print(\"This is the mean Spot Price per year\")\n",
    "print(df_new1)"
   ]
  },
  {
   "cell_type": "code",
   "execution_count": null,
   "metadata": {},
   "outputs": [],
   "source": [
    "#finding average spot price per hour of day for each year\n",
    "df_new2 = df_prices.groupby([df_prices[\"Year\"], df_prices[\"Hour\"] ])[\"SpotPriceDKK\"].mean().reset_index()\n",
    "\n",
    "df_new2"
   ]
  }
 ],
 "metadata": {
  "kernelspec": {
   "display_name": "EA25",
   "language": "python",
   "name": "python3"
  },
  "language_info": {
   "codemirror_mode": {
    "name": "ipython",
    "version": 3
   },
   "file_extension": ".py",
   "mimetype": "text/x-python",
   "name": "python",
   "nbconvert_exporter": "python",
   "pygments_lexer": "ipython3",
   "version": "3.12.7"
  }
 },
 "nbformat": 4,
 "nbformat_minor": 2
}
