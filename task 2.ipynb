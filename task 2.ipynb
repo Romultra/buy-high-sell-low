{
 "cells": [
  {
   "cell_type": "code",
   "execution_count": null,
   "metadata": {},
   "outputs": [],
   "source": [
    "%matplotlib inline\n",
    "import matplotlib.pyplot as plt\n",
    "import numpy as np\n",
    "import cvxpy as cp"
   ]
  },
  {
   "cell_type": "code",
   "execution_count": null,
   "metadata": {},
   "outputs": [],
   "source": [
    "#Parameters\n",
    "\n",
    "Pmax = 5\n",
    "n_c = 0.95\n",
    "n_d = 0.95\n",
    "Cmax = 10\n",
    "C_0 = 70\n",
    "C_n = 80\n",
    "\n",
    "# Define the prices array\n",
    "l = np.array([0.5, 1.4, 4.4, 9.4, 6.4, 2.3]) #these price arrays should be DK2\n",
    "print(l)"
   ]
  },
  {
   "cell_type": "code",
   "execution_count": null,
   "metadata": {},
   "outputs": [],
   "source": [
    "#Optimization Variables\n",
    "\n",
    "n = 6 # Number of steps\n",
    "p_c = cp.Variable(n)\n",
    "p_d = cp.Variable(n)\n",
    "X   = cp.Variable(n)"
   ]
  },
  {
   "cell_type": "code",
   "execution_count": null,
   "metadata": {},
   "outputs": [],
   "source": [
    "#objective function\n",
    "\n",
    "cost = cp.sum(-p_d@l + p_c@l)"
   ]
  },
  {
   "cell_type": "code",
   "execution_count": null,
   "metadata": {},
   "outputs": [],
   "source": [
    "#Constraints\n",
    "\n",
    "constraints = [p_c >= 0,\n",
    "               p_d >= 0,\n",
    "               p_c <= Pmax,\n",
    "               p_d <= Pmax]\n",
    "constraints += [X >= 0, X <= Cmax]\n",
    "constraints += [X[0]==C_0 + p_c[0]*n_c - p_d[0]/n_d]\n",
    "\n",
    "for j in range(1,n):\n",
    "    constraints += [X[j]==X[j-1] + p_c[j]*n_c - p_d[j]/n_d]\n",
    "\n",
    "constraints += [X[n-1]>=C_n]"
   ]
  },
  {
   "cell_type": "code",
   "execution_count": null,
   "metadata": {},
   "outputs": [],
   "source": [
    "#Problem \n",
    "\n",
    "problem = cp.Problem(cp.Minimize(cost), constraints)\n",
    "problem.solve(solver=cp.CLARABEL)\n",
    "\n",
    "print(\"\\n--- Optimization Results ---\")\n",
    "print(f\"Charging power (p_c): {np.round(p_c.value, 1)}\")\n",
    "print(f\"Discharging power (p_d): {np.round(p_d.value, 1)}\")\n",
    "print(f\"State of charge (X): {np.round(X.value, 1)}\")\n",
    "print(f\"Total cost: {np.round(cost.value, 1)}\")\n",
    "print(\"-----------------------------\")"
   ]
  },
  {
   "cell_type": "code",
   "execution_count": null,
   "metadata": {},
   "outputs": [],
   "source": [
    "#Results\n",
    "\n",
    "# Create the figure and axes objects for the two subplots\n",
    "fig, (ax1, ax2) = plt.subplots(2, 1, figsize=(8, 6))\n",
    "fig.subplots_adjust(hspace=0.4)  # Adjust space between plots\n",
    "\n",
    "# Plot the prices in the top subplot (exclude the first and last hours)\n",
    "ax1.stairs(l, range(len(l) + 1), label='Prices', baseline = None, color='darkblue', linewidth=2)\n",
    "ax1.set_xlabel('Hour', fontsize=12)\n",
    "ax1.set_ylabel('Price [DKK/kWh]', fontsize=12)\n",
    "ax1.set_title(\"Spot Prices Over Time\", fontsize=14, fontweight='bold')\n",
    "ax1.grid(True, linestyle=':', linewidth=0.7, alpha=0.8)\n",
    "\n",
    "# Plot the power in the bottom subplot (exclude the first and last hours)\n",
    "ax2.stairs(p_c.value, range(len(l) + 1), label='Charging Power', baseline = None, color='green', linewidth=2)\n",
    "ax2.stairs(-p_d.value, range(len(l) + 1), label='Discharging Power', baseline = None, color='red', linewidth=2)\n",
    "ax2.set_xlabel('Hour', fontsize=12)\n",
    "ax2.set_ylabel('Power [kW]', fontsize=12)\n",
    "ax2.set_title(\"Battery Charging/Discharging Schedule\", fontsize=14, fontweight='bold')\n",
    "ax2.legend(loc='upper center', fontsize=10, frameon=True, shadow=True, ncol=2)\n",
    "ax2.grid(True, linestyle=':', linewidth=0.7, alpha=0.8)\n",
    "\n",
    "# Show the plot\n",
    "plt.tight_layout()\n",
    "plt.show()"
   ]
  }
 ],
 "metadata": {
  "kernelspec": {
   "display_name": "EA25",
   "language": "python",
   "name": "python3"
  },
  "language_info": {
   "codemirror_mode": {
    "name": "ipython",
    "version": 3
   },
   "file_extension": ".py",
   "mimetype": "text/x-python",
   "name": "python",
   "nbconvert_exporter": "python",
   "pygments_lexer": "ipython3",
   "version": "3.12.7"
  }
 },
 "nbformat": 4,
 "nbformat_minor": 2
}
