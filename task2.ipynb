{
 "cells": [
  {
   "cell_type": "code",
   "execution_count": null,
   "metadata": {},
   "outputs": [],
   "source": [
    "%matplotlib inline\n",
    "import matplotlib.pyplot as plt\n",
    "import os\n",
    "import pandas as pd\n",
    "import numpy as np\n",
    "import cvxpy as cp\n",
    "from UsefulFunctions import Optimizer_NonProsumer"
   ]
  },
  {
   "cell_type": "markdown",
   "metadata": {},
   "source": [
    "## Task 2"
   ]
  },
  {
   "cell_type": "markdown",
   "metadata": {},
   "source": [
    "### 2.1"
   ]
  },
  {
   "cell_type": "code",
   "execution_count": null,
   "metadata": {},
   "outputs": [],
   "source": [
    "### Load electricity prices ###\n",
    "price_path = os.path.join(os.getcwd(),'ElspotpricesEA.csv')\n",
    "df_prices = pd.read_csv(price_path)\n",
    "\n",
    "### Convert to datetime ###\n",
    "df_prices[\"HourDK\"] = pd.to_datetime(df_prices[\"HourDK\"])\n",
    "df_prices[\"HourUTC\"] = pd.to_datetime(df_prices[\"HourUTC\"])\n",
    "df_prices['HourUTC'] = df_prices['HourUTC'].dt.tz_localize('UTC')\n",
    "df_prices['HourDK'] = df_prices['HourUTC'].dt.tz_convert('CET')\n",
    "\n",
    "### Convert prices to DKK/kWh ###\n",
    "df_prices['SpotPriceDKK'] = df_prices['SpotPriceDKK']/1000\n",
    "\n",
    "### Filter only DK2 prices, restricting price list to DK2 ###\n",
    "df_prices = df_prices.loc[df_prices['PriceArea']==\"DK2\"]\n",
    "\n",
    "### Keep only the local time and price columns ###\n",
    "df_prices = df_prices[['HourDK','SpotPriceDKK']]\n",
    "\n",
    "### Reset the index ###\n",
    "df_prices = df_prices.reset_index(drop=True)\n",
    "\n",
    "### Adding columns for year, month, day, hour as datetime objects ###\n",
    "\n",
    "df_prices[\"Year\"]=df_prices[\"HourDK\"].dt.year\n",
    "df_prices[\"Month\"]=df_prices[\"HourDK\"].dt.month\n",
    "df_prices[\"Day\"]=df_prices[\"HourDK\"].dt.day_of_year\n",
    "df_prices[\"Hour\"]=df_prices[\"HourDK\"].dt.hour\n",
    "\n",
    "### Filtering by year ###\n",
    "\n",
    "df_prices_2019 = df_prices.loc[df_prices[\"Year\"].isin([2019])]\n",
    "df_prices_2020 = df_prices.loc[df_prices[\"Year\"].isin([2020])]\n",
    "df_prices_2021 = df_prices.loc[df_prices[\"Year\"].isin([2021])]\n",
    "df_prices_2022 = df_prices.loc[df_prices[\"Year\"].isin([2022])]\n",
    "df_prices_2023 = df_prices.loc[df_prices[\"Year\"].isin([2023])]\n",
    "\n",
    "### Establishing the parameters of the battery ###\n",
    "\n",
    "# Battery parameters\n",
    "battery_params = {\n",
    "    'Pmax': 5,      # Power capacity in kW\n",
    "    'Cmax': 10,     # Energy capacity in kWh\n",
    "    'Cmin': 1,\n",
    "    'C_0': 5,       # Initial SOC (50%)\n",
    "    'C_n': 5,       # Final SOC (50%)\n",
    "    'n_c': 0.95,    # Charging efficiency\n",
    "    'n_d': 0.95     # Discharging efficiency\n",
    "}\n",
    "###Dictionary for optimization results of each year###\n",
    "costs_only = {'2019':0, '2020':0, '2021':0, '2022': 0, '2023': 0}\n",
    "\n",
    "### Finding mean prices for each day of the year ###\n",
    "years = [df_prices_2019, df_prices_2020, df_prices_2021, df_prices_2022, df_prices_2023]    \n",
    "\n",
    "for year in years:\n",
    "    year_value = year[\"Year\"].values[0]\n",
    "    for day in year[\"Day\"].unique():\n",
    "        prices_day = year[year[\"Day\"] == day]\n",
    "        price = prices_day[\"SpotPriceDKK\"].values\n",
    "        cost_year, pc_value, pd_value, X_value = Optimizer_NonProsumer(battery_params, price)\n",
    "        costs_only[str(year_value)] += cost_year\n",
    "\n",
    "      \n",
    "##Notes for signs of cost in DKK/kWh:\n",
    "#When the result of cost is positive we're making money, and when it is the opposite, we're losing it.     \n",
    "\n",
    "# Display results\n",
    "print('--- 2.1 results ---')\n",
    "print(f\"Annual costs with Storage [DKK/kWh]:\")\n",
    "print(f\"2019: {costs_only['2019']:.2f}\")\n",
    "print(f\"2020: {costs_only['2020']:.2f}\")\n",
    "print(f\"2021: {costs_only['2021']:.2f}\")\n",
    "print(f\"2022: {costs_only['2022']:.2f}\")\n",
    "print(f\"2023: {costs_only['2023']:.2f}\")\n"
   ]
  }
 ],
 "metadata": {
  "kernelspec": {
   "display_name": "EA25",
   "language": "python",
   "name": "python3"
  },
  "language_info": {
   "codemirror_mode": {
    "name": "ipython",
    "version": 3
   },
   "file_extension": ".py",
   "mimetype": "text/x-python",
   "name": "python",
   "nbconvert_exporter": "python",
   "pygments_lexer": "ipython3",
   "version": "3.12.7"
  }
 },
 "nbformat": 4,
 "nbformat_minor": 2
}
